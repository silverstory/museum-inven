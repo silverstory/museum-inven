{
 "cells": [
  {
   "cell_type": "markdown",
   "metadata": {},
   "source": [
    "### DATA MAPPING\n"
   ]
  },
  {
   "cell_type": "code",
   "execution_count": 5,
   "metadata": {},
   "outputs": [
    {
     "name": "stdout",
     "output_type": "stream",
     "text": [
      "Processing complete! Output saved to 'formatted_output.xlsx'\n"
     ]
    }
   ],
   "source": [
    "import pandas as pd\n",
    "import numpy as np\n",
    "from datetime import datetime\n",
    "import pytz\n",
    "\n",
    "# Load mapping data\n",
    "mapping_df = pd.read_excel('../proddata/mapping.xlsx', sheet_name='Inventory_Items', header=None, nrows=2)\n",
    "output_headers = mapping_df.iloc[0].tolist()\n",
    "source_columns = mapping_df.iloc[1].tolist()\n",
    "\n",
    "# Clean source columns\n",
    "source_columns = ['' if pd.isna(x) else x for x in source_columns]\n",
    "source_columns = [x.strip() if isinstance(x, str) else str(x).strip() for x in source_columns]\n",
    "\n",
    "# Load source data\n",
    "source_df = pd.read_csv('../proddata/source.csv')\n",
    "source_df.columns = [col.strip() for col in source_df.columns]\n",
    "\n",
    "# Create output DataFrame\n",
    "output_df = pd.DataFrame(columns=output_headers)\n",
    "\n",
    "# Process each column in mapping\n",
    "for i, out_col in enumerate(output_headers):\n",
    "    src_col = source_columns[i]\n",
    "    \n",
    "    if not src_col or src_col not in source_df.columns:\n",
    "        output_df[out_col] = np.nan\n",
    "        continue\n",
    "        \n",
    "    if src_col in ['createdAt', 'updatedAt']:\n",
    "        # Date conversion to Taipei time (UTC+8)\n",
    "        taipei_tz = pytz.timezone('Asia/Taipei')\n",
    "        formatted_dates = []\n",
    "        \n",
    "        for dt_str in source_df[src_col]:\n",
    "            if pd.isna(dt_str) or dt_str == '':\n",
    "                formatted_dates.append('')\n",
    "                continue\n",
    "                \n",
    "            try:\n",
    "                # Parse ISO format and convert to Taipei time\n",
    "                dt_utc = datetime.fromisoformat(dt_str.replace('Z', '+00:00'))\n",
    "                dt_taipei = dt_utc.astimezone(taipei_tz)\n",
    "                # Format as MM/DD/YYYY HH:MM:SS AM/PM\n",
    "                formatted_dates.append(dt_taipei.strftime('%m/%d/%Y %I:%M:%S %p').replace(' AM', ' AM').replace(' PM', ' PM'))\n",
    "            except Exception as e:\n",
    "                print(f\"Error processing date {dt_str}: {e}\")\n",
    "                formatted_dates.append('')\n",
    "                \n",
    "        output_df[out_col] = formatted_dates\n",
    "    else:\n",
    "        output_df[out_col] = source_df[src_col]\n",
    "\n",
    "# Save to Excel\n",
    "output_df.to_excel('../output/formatted_output.xlsx', index=False)\n",
    "print(\"Processing complete! Output saved to 'formatted_output.xlsx'\")"
   ]
  }
 ],
 "metadata": {
  "kernelspec": {
   "display_name": "Python 3",
   "language": "python",
   "name": "python3"
  },
  "language_info": {
   "codemirror_mode": {
    "name": "ipython",
    "version": 3
   },
   "file_extension": ".py",
   "mimetype": "text/x-python",
   "name": "python",
   "nbconvert_exporter": "python",
   "pygments_lexer": "ipython3",
   "version": "3.13.1"
  }
 },
 "nbformat": 4,
 "nbformat_minor": 2
}
