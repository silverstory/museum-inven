{
 "cells": [
  {
   "cell_type": "markdown",
   "metadata": {},
   "source": [
    "### DATA MAPPING\n"
   ]
  },
  {
   "cell_type": "code",
   "execution_count": 3,
   "metadata": {},
   "outputs": [
    {
     "name": "stdout",
     "output_type": "stream",
     "text": [
      "Processing complete! Output saved to 'formatted_inventory.xlsx'\n"
     ]
    }
   ],
   "source": [
    "import pandas as pd\n",
    "import numpy as np\n",
    "from datetime import datetime\n",
    "import pytz\n",
    "\n",
    "# Function to convert ISO dates to Taipei time and format properly\n",
    "def convert_date(date_str, format_type):\n",
    "    if pd.isna(date_str) or date_str in ['', 'None']:\n",
    "        return ''\n",
    "    \n",
    "    taipei_tz = pytz.timezone('Asia/Taipei')\n",
    "    \n",
    "    try:\n",
    "        # Handle ISO format (with 'T' and 'Z')\n",
    "        if 'T' in date_str and date_str.endswith('Z'):\n",
    "            dt = datetime.fromisoformat(date_str.replace('Z', '+00:00'))\n",
    "            dt_taipei = dt.astimezone(taipei_tz)\n",
    "            \n",
    "            if format_type == 'acquisition_date':\n",
    "                return dt_taipei.strftime('%m/%d/%Y')\n",
    "            else:  # full timestamp\n",
    "                return dt_taipei.strftime('%m/%d/%Y %I:%M:%S %p').replace(' AM', ' AM').replace(' PM', ' PM')\n",
    "        \n",
    "        # Handle existing date formats (like '04/22/2008')\n",
    "        elif '/' in date_str:\n",
    "            if format_type == 'acquisition_date':\n",
    "                return date_str\n",
    "            else:\n",
    "                # Parse existing date and add time if needed\n",
    "                dt = datetime.strptime(date_str, '%m/%d/%Y')\n",
    "                return dt.strftime('%m/%d/%Y %I:%M:%S %p').replace(' AM', ' AM').replace(' PM', ' PM')\n",
    "        \n",
    "        # Fallback to return original if format not recognized\n",
    "        return date_str\n",
    "    \n",
    "    except Exception as e:\n",
    "        print(f\"Error converting date: {date_str} - {str(e)}\")\n",
    "        return date_str\n",
    "\n",
    "# Load mapping data\n",
    "mapping_df = pd.read_excel('../proddata/mapping.xlsx', sheet_name='Inventory_Items', header=None, nrows=2)\n",
    "output_headers = mapping_df.iloc[0].tolist()\n",
    "source_columns = mapping_df.iloc[1].tolist()\n",
    "\n",
    "# Clean source columns\n",
    "source_columns = [str(x).strip() if not pd.isna(x) else '' for x in source_columns]\n",
    "\n",
    "# Load source data\n",
    "source_df = pd.read_csv('../proddata/source.csv')\n",
    "source_df.columns = [col.strip() for col in source_df.columns]\n",
    "\n",
    "# Create output DataFrame\n",
    "output_df = pd.DataFrame(columns=output_headers)\n",
    "\n",
    "# Process each column in mapping\n",
    "for i, out_col in enumerate(output_headers):\n",
    "    src_col = source_columns[i]\n",
    "    \n",
    "    if not src_col or src_col not in source_df.columns:\n",
    "        output_df[out_col] = ''\n",
    "        continue\n",
    "        \n",
    "    # Handle date conversions\n",
    "    if out_col == 'Acquisition Date':\n",
    "        output_df[out_col] = source_df[src_col].apply(lambda x: convert_date(x, 'acquisition_date'))\n",
    "    elif out_col in ['Date Created', 'Date Modified']:\n",
    "        output_df[out_col] = source_df[src_col].apply(lambda x: convert_date(x, 'timestamp'))\n",
    "    else:\n",
    "        output_df[out_col] = source_df[src_col]\n",
    "\n",
    "# Save to Excel\n",
    "output_df.to_excel('../output/formatted_inventory.xlsx', index=False)\n",
    "print(\"Processing complete! Output saved to 'formatted_inventory.xlsx'\")"
   ]
  }
 ],
 "metadata": {
  "kernelspec": {
   "display_name": "Python 3",
   "language": "python",
   "name": "python3"
  },
  "language_info": {
   "codemirror_mode": {
    "name": "ipython",
    "version": 3
   },
   "file_extension": ".py",
   "mimetype": "text/x-python",
   "name": "python",
   "nbconvert_exporter": "python",
   "pygments_lexer": "ipython3",
   "version": "3.13.1"
  }
 },
 "nbformat": 4,
 "nbformat_minor": 2
}
