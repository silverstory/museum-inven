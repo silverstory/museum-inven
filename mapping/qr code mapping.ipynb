{
 "cells": [
  {
   "cell_type": "markdown",
   "metadata": {},
   "source": [
    "### DATA MAPPING\n"
   ]
  },
  {
   "cell_type": "code",
   "execution_count": 5,
   "metadata": {},
   "outputs": [],
   "source": [
    "import pandas as pd\n",
    "\n",
    "# Load FILE TWO and process _id column\n",
    "df2 = pd.read_csv('../proddata/bahay_ugnayan_inventories.csv')\n",
    "df2['_id_clean'] = df2['_id'].str.replace(r'ObjectId\\((.*)\\)', r'\\1', regex=True)\n",
    "\n",
    "# Load FILE ONE\n",
    "df1 = pd.read_excel('../output/mapped_bahay_ugnayan_June26_2025.xlsx', sheet_name='Sheet1')\n",
    "\n",
    "# Create mapping from FILE TWO\n",
    "mapping = df2.set_index('accessionId')['_id_clean']\n",
    "\n",
    "# Map cleaned _id to FILE ONE\n",
    "df1['_id_clean'] = df1['Accession ID Number'].map(mapping)\n",
    "\n",
    "# Generate QR code URLs\n",
    "base_original = \"https://teus-goldenberg.rtdigit.net/inventory/view/\"\n",
    "base_new = \"https://inven.wpenginepowered.com/view-inventory-item/?accession_id=\"\n",
    "\n",
    "df1['qrcode_original'] = df1['_id_clean'].apply(lambda x: base_original + x if pd.notna(x) else \"\")\n",
    "df1['qrcode_new'] = base_new + df1['Accession ID Number'].astype(str)\n",
    "\n",
    "# Remove temporary column and save\n",
    "df1.drop(columns=['_id_clean'], inplace=True)\n",
    "df1.to_excel('../output/mapped_with_qr_code/mapped_with_qr_bahay_ugnayan_July02_2025.xlsx', index=False)"
   ]
  }
 ],
 "metadata": {
  "kernelspec": {
   "display_name": "Python 3",
   "language": "python",
   "name": "python3"
  },
  "language_info": {
   "codemirror_mode": {
    "name": "ipython",
    "version": 3
   },
   "file_extension": ".py",
   "mimetype": "text/x-python",
   "name": "python",
   "nbconvert_exporter": "python",
   "pygments_lexer": "ipython3",
   "version": "3.13.1"
  }
 },
 "nbformat": 4,
 "nbformat_minor": 2
}
