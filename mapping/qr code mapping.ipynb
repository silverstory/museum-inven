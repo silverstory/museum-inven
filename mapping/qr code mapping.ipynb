{
 "cells": [
  {
   "cell_type": "markdown",
   "metadata": {},
   "source": [
    "### DATA MAPPING\n"
   ]
  },
  {
   "cell_type": "code",
   "execution_count": 3,
   "metadata": {},
   "outputs": [
    {
     "name": "stdout",
     "output_type": "stream",
     "text": [
      "Enhanced file saved to: ../output/mapped_with_qr_code/mapped_teus_goldenberg_June26_2025_WITH_QR_CODES.xlsx\n",
      "Used base URL: https://teus-goldenberg.rtdigit.net/inventory/view/\n"
     ]
    }
   ],
   "source": [
    "import pandas as pd\n",
    "import numpy as np\n",
    "import os\n",
    "\n",
    "# Define file paths (update these with your actual file paths)\n",
    "file_one_path = '../output/mapped_teus_goldenberg_June26_2025.xlsx'\n",
    "file_two_path = '../proddata/teus_goldenberg_inventories.csv'\n",
    "\n",
    "# Extract filenames for keyword detection\n",
    "file_one_name = file_one_path.lower()\n",
    "file_two_name = file_two_path.lower()\n",
    "\n",
    "# Determine base_original based on keywords in filenames\n",
    "if 'ugnayan' in file_one_name and 'ugnayan' in file_two_name:\n",
    "    base_original = \"https://bahay-ugnayan.rtdigit.net/inventory/view/\"\n",
    "elif 'kalayaan' in file_one_name and 'kalayaan' in file_two_name:\n",
    "    base_original = \"https://kalayaan.rtdigit.net/inventory/view/\"\n",
    "elif 'goldenberg' in file_one_name and 'goldenberg' in file_two_name:\n",
    "    base_original = \"https://teus-goldenberg.rtdigit.net/inventory/view/\"\n",
    "else:\n",
    "    # Default case (use goldenberg if no keywords match)\n",
    "    base_original = \"https://teus-goldenberg.rtdigit.net/inventory/view/\"\n",
    "\n",
    "# Constant for qrcode_new\n",
    "base_new = \"https://inven.wpenginepowered.com/view-inventory-item/?accession_id=\"\n",
    "\n",
    "# Load and process FILE TWO\n",
    "df2 = pd.read_csv(file_two_path)\n",
    "df2['_id_clean'] = df2['_id'].str.extract(r'ObjectId\\((.*?)\\)', expand=False)\n",
    "df2['_id_clean'] = np.where(df2['_id_clean'].isna(), df2['_id'], df2['_id_clean'])\n",
    "\n",
    "# Load FILE ONE\n",
    "df1 = pd.read_excel(file_one_path, sheet_name='Sheet1')\n",
    "\n",
    "# Create mapping from FILE TWO\n",
    "mapping = df2.set_index('accessionId')['_id_clean'].to_dict()\n",
    "\n",
    "# Map cleaned _id to FILE ONE and generate QR codes\n",
    "df1['qrcode_original'] = df1['Accession ID Number'].map(mapping).apply(lambda x: base_original + x if pd.notna(x) else \"\")\n",
    "df1['qrcode_new'] = base_new + df1['Accession ID Number'].astype(str)\n",
    "\n",
    "# Save enhanced FILE ONE\n",
    "# Ensure the output directory exists\n",
    "output_dir = '../output/mapped_with_qr_code/'\n",
    "os.makedirs(output_dir, exist_ok=True)\n",
    "\n",
    "# Construct the output file path\n",
    "output_filename = os.path.basename(file_one_path).replace('.xlsx', '_WITH_QR_CODES.xlsx')\n",
    "output_path = os.path.join(output_dir, output_filename)\n",
    "\n",
    "df1.to_excel(output_path, index=False)\n",
    "\n",
    "print(f\"Enhanced file saved to: {output_path}\")\n",
    "print(f\"Used base URL: {base_original}\")"
   ]
  }
 ],
 "metadata": {
  "kernelspec": {
   "display_name": "Python 3",
   "language": "python",
   "name": "python3"
  },
  "language_info": {
   "codemirror_mode": {
    "name": "ipython",
    "version": 3
   },
   "file_extension": ".py",
   "mimetype": "text/x-python",
   "name": "python",
   "nbconvert_exporter": "python",
   "pygments_lexer": "ipython3",
   "version": "3.13.1"
  }
 },
 "nbformat": 4,
 "nbformat_minor": 2
}
