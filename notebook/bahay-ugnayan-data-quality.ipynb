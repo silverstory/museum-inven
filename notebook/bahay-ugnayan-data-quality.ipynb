{
 "cells": [
  {
   "cell_type": "markdown",
   "metadata": {},
   "source": [
    "### CONTEXT AND RELEVANCE\n",
    "\n",
    "#### Which might answer these questions:\n",
    "- Are there any potential biases in the data?\n",
    "- If there are biases, what are the risks and implications?\n"
   ]
  },
  {
   "cell_type": "code",
   "execution_count": 23,
   "metadata": {},
   "outputs": [],
   "source": [
    "# import library\n",
    "import pandas as pd\n",
    "\n",
    "# Relative path to read the CSV file from the \"data\" folder\n",
    "df = pd.read_csv(r\"./data/bahay-ugnayan/inventories.csv\")\n",
    "\n",
    "# Convert columns to their appropriate data types\n",
    "df = df.infer_objects()"
   ]
  },
  {
   "cell_type": "markdown",
   "metadata": {},
   "source": [
    "---\n",
    "\n",
    "### DATA QUALITY\n",
    "\n",
    "### Check for missing values"
   ]
  },
  {
   "cell_type": "code",
   "execution_count": 24,
   "metadata": {},
   "outputs": [
    {
     "name": "stdout",
     "output_type": "stream",
     "text": [
      "_id                                   0\n",
      "accessionId                           0\n",
      "amoNumber                           776\n",
      "assetCategory                         0\n",
      "assetDescription                      0\n",
      "                                   ... \n",
      "displayedAssets[0].createdBy        773\n",
      "displayedAssets[0].assetLocation    773\n",
      "displayedAssets[0].roomNumber       773\n",
      "displayedAssets[0].createdAt        773\n",
      "displayedAssets[0]._id              773\n",
      "Length: 90, dtype: int64\n",
      "-----------\n",
      "\n",
      "amoNumber: 776 null values\n",
      "acquisitionDate: 701 null values\n",
      "acquisitionPrice: 776 null values\n",
      "currentMarketValue: 776 null values\n",
      "images[0].name: 177 null values\n",
      "images[1].name: 183 null values\n",
      "images[2].name: 183 null values\n",
      "images[3].name: 497 null values\n",
      "images[4].name: 643 null values\n",
      "images[5].name: 714 null values\n",
      "images[6].name: 746 null values\n",
      "images[7].name: 755 null values\n",
      "images[8].name: 767 null values\n",
      "images[9].name: 772 null values\n",
      "images[10].name: 773 null values\n",
      "images[0].s3Key: 177 null values\n",
      "images[1].s3Key: 183 null values\n",
      "images[2].s3Key: 183 null values\n",
      "images[3].s3Key: 497 null values\n",
      "images[4].s3Key: 643 null values\n",
      "images[5].s3Key: 714 null values\n",
      "images[6].s3Key: 746 null values\n",
      "images[7].s3Key: 755 null values\n",
      "images[8].s3Key: 767 null values\n",
      "images[9].s3Key: 772 null values\n",
      "images[10].s3Key: 773 null values\n",
      "images[0].pre_signed_url: 177 null values\n",
      "images[1].pre_signed_url: 183 null values\n",
      "images[2].pre_signed_url: 183 null values\n",
      "images[3].pre_signed_url: 497 null values\n",
      "images[4].pre_signed_url: 643 null values\n",
      "images[5].pre_signed_url: 714 null values\n",
      "images[6].pre_signed_url: 746 null values\n",
      "images[7].pre_signed_url: 755 null values\n",
      "images[8].pre_signed_url: 767 null values\n",
      "images[9].pre_signed_url: 772 null values\n",
      "images[10].pre_signed_url: 773 null values\n",
      "images[0].date_updated: 177 null values\n",
      "images[1].date_updated: 183 null values\n",
      "images[2].date_updated: 183 null values\n",
      "images[3].date_updated: 497 null values\n",
      "images[4].date_updated: 643 null values\n",
      "images[5].date_updated: 714 null values\n",
      "images[6].date_updated: 746 null values\n",
      "images[7].date_updated: 755 null values\n",
      "images[8].date_updated: 767 null values\n",
      "images[9].date_updated: 772 null values\n",
      "images[10].date_updated: 773 null values\n",
      "images[0]._id: 177 null values\n",
      "images[1]._id: 183 null values\n",
      "images[2]._id: 183 null values\n",
      "images[3]._id: 497 null values\n",
      "images[4]._id: 643 null values\n",
      "images[5]._id: 714 null values\n",
      "images[6]._id: 746 null values\n",
      "images[7]._id: 755 null values\n",
      "images[8]._id: 767 null values\n",
      "images[9]._id: 772 null values\n",
      "images[10]._id: 773 null values\n",
      "boxNumber: 577 null values\n",
      "remarks: 378 null values\n",
      "assetNotes: 25 null values\n",
      "itemIsFromAnotherMuseum: 665 null values\n",
      "storedAssets[0].quantity: 668 null values\n",
      "storedAssets[0].date: 668 null values\n",
      "storedAssets[0].createdBy: 668 null values\n",
      "storedAssets[0].assetLocation: 668 null values\n",
      "storedAssets[0].roomNumber: 668 null values\n",
      "storedAssets[0].createdAt: 668 null values\n",
      "storedAssets[0]._id: 668 null values\n",
      "displayedAssets[0].quantity: 773 null values\n",
      "displayedAssets[0].date: 773 null values\n",
      "displayedAssets[0].createdBy: 773 null values\n",
      "displayedAssets[0].assetLocation: 773 null values\n",
      "displayedAssets[0].roomNumber: 773 null values\n",
      "displayedAssets[0].createdAt: 773 null values\n",
      "displayedAssets[0]._id: 773 null values\n"
     ]
    }
   ],
   "source": [
    "# Check for missing values\n",
    "null_counts = df.isnull().sum()\n",
    "\n",
    "print(f\"{null_counts}\\n-----------\\n\")\n",
    "\n",
    "for column, count in null_counts.items():\n",
    "    if count > 0:\n",
    "        print(f\"{column}: {count} null values\")"
   ]
  },
  {
   "cell_type": "markdown",
   "metadata": {},
   "source": [
    "### Check for duplicates"
   ]
  },
  {
   "cell_type": "code",
   "execution_count": 25,
   "metadata": {},
   "outputs": [
    {
     "name": "stdout",
     "output_type": "stream",
     "text": [
      "There are \u001b[1m0\u001b[0m duplicates found\n"
     ]
    }
   ],
   "source": [
    "print(\"There are\", f\"\\033[1m{df.duplicated().sum()}\\033[0m\", \"duplicates found\")"
   ]
  },
  {
   "cell_type": "markdown",
   "metadata": {},
   "source": [
    "---\n",
    "\n",
    "### DATA STRUCTURE AND TYPES"
   ]
  },
  {
   "cell_type": "code",
   "execution_count": 26,
   "metadata": {},
   "outputs": [
    {
     "name": "stdout",
     "output_type": "stream",
     "text": [
      "Number of rows: 776\n",
      "Number of columns: 90\n"
     ]
    }
   ],
   "source": [
    "rows, columns = df.shape\n",
    "print(f\"Number of rows: {rows:,}\")\n",
    "print(f\"Number of columns: {columns:,}\")"
   ]
  },
  {
   "cell_type": "code",
   "execution_count": 27,
   "metadata": {},
   "outputs": [
    {
     "name": "stdout",
     "output_type": "stream",
     "text": [
      "_id                                  object\n",
      "accessionId                          object\n",
      "amoNumber                           float64\n",
      "assetCategory                        object\n",
      "assetDescription                     object\n",
      "                                     ...   \n",
      "displayedAssets[0].createdBy         object\n",
      "displayedAssets[0].assetLocation     object\n",
      "displayedAssets[0].roomNumber        object\n",
      "displayedAssets[0].createdAt         object\n",
      "displayedAssets[0]._id               object\n",
      "Length: 90, dtype: object\n"
     ]
    }
   ],
   "source": [
    "# Print the data types of the columns\n",
    "print(df.dtypes)"
   ]
  },
  {
   "cell_type": "code",
   "execution_count": 28,
   "metadata": {},
   "outputs": [
    {
     "name": "stdout",
     "output_type": "stream",
     "text": [
      "Count of columns in each type:\n",
      "\n"
     ]
    },
    {
     "data": {
      "text/plain": [
       "object     82\n",
       "float64     6\n",
       "int64       2\n",
       "Name: count, dtype: int64"
      ]
     },
     "execution_count": 28,
     "metadata": {},
     "output_type": "execute_result"
    }
   ],
   "source": [
    "print(\"Count of columns in each type:\\n\")\n",
    "df.dtypes.value_counts()"
   ]
  },
  {
   "cell_type": "markdown",
   "metadata": {},
   "source": [
    "---\n",
    "\n",
    "### OUTLIERS"
   ]
  },
  {
   "cell_type": "code",
   "execution_count": 29,
   "metadata": {},
   "outputs": [],
   "source": [
    "def find_extremes(df, column):\n",
    "    min_value = df[column].min()\n",
    "    max_value = df[column].max()\n",
    "    return min_value, max_value"
   ]
  },
  {
   "cell_type": "code",
   "execution_count": 30,
   "metadata": {},
   "outputs": [
    {
     "name": "stdout",
     "output_type": "stream",
     "text": [
      "Minimum: 1, Maximum: 347\n"
     ]
    }
   ],
   "source": [
    "min_val, max_val = find_extremes(df, 'assetQuantity')\n",
    "print(f\"Minimum: {min_val}, Maximum: {max_val}\")"
   ]
  },
  {
   "cell_type": "code",
   "execution_count": 31,
   "metadata": {},
   "outputs": [
    {
     "name": "stdout",
     "output_type": "stream",
     "text": [
      "Smallest values:\n",
      " 6     1\n",
      "7     1\n",
      "8     1\n",
      "9     1\n",
      "10    1\n",
      "Name: assetQuantity, dtype: int64\n",
      "Largest values:\n",
      " 235    347\n",
      "642     61\n",
      "5       34\n",
      "0       23\n",
      "671     10\n",
      "Name: assetQuantity, dtype: int64\n"
     ]
    }
   ],
   "source": [
    "# The 5 smallest values\n",
    "smallest_values = df['assetQuantity'].nsmallest(5)\n",
    "print(\"Smallest values:\\n\", smallest_values)\n",
    "\n",
    "# The 5 largest values\n",
    "largest_values = df['assetQuantity'].nlargest(5)\n",
    "print(\"Largest values:\\n\", largest_values)"
   ]
  },
  {
   "cell_type": "markdown",
   "metadata": {},
   "source": [
    "---\n",
    "\n",
    "### DATA DISTRIBUTIONS AND SUMMARY STATISTICS"
   ]
  },
  {
   "cell_type": "code",
   "execution_count": 32,
   "metadata": {},
   "outputs": [],
   "source": [
    "import pandas as pd\n",
    "\n",
    "def calculate_statistics(df, column):\n",
    "    \"\"\"\n",
    "    Returns the mean, median, and mode for a specified column in the DataFrame.\n",
    "\n",
    "    Parameters:\n",
    "        df (pd.DataFrame): The DataFrame containing the data.\n",
    "        column (str): The column name to calculate statistics for.\n",
    "\n",
    "    Returns:\n",
    "        dict: A dictionary containing the mean, median, and mode of the column.\n",
    "    \"\"\"\n",
    "    mean_value = df[column].mean()\n",
    "    median_value = df[column].median()\n",
    "    mode_value = df[column].mode().iloc[0] if not df[column].mode().empty else None\n",
    "\n",
    "    return {\n",
    "        'mean': mean_value,\n",
    "        'median': median_value,\n",
    "        'mode': mode_value\n",
    "    }"
   ]
  },
  {
   "cell_type": "code",
   "execution_count": 33,
   "metadata": {},
   "outputs": [
    {
     "name": "stdout",
     "output_type": "stream",
     "text": [
      "Statistics for 'assetQuantity' column:\n",
      "Mean: 1.7384020618556701\n",
      "Median: 1.0\n",
      "Mode: 1\n"
     ]
    }
   ],
   "source": [
    "stats = calculate_statistics(df, 'assetQuantity')\n",
    "\n",
    "# Formatting the output\n",
    "formatted_stats = (\n",
    "    f\"Statistics for 'assetQuantity' column:\\n\"\n",
    "    f\"Mean: {stats['mean']}\\n\"\n",
    "    f\"Median: {stats['median']}\\n\"\n",
    "    f\"Mode: {stats['mode']}\"\n",
    ")\n",
    "\n",
    "print(formatted_stats)"
   ]
  },
  {
   "cell_type": "markdown",
   "metadata": {},
   "source": [
    "#### In simpler terms:\n",
    "\n",
    "1. **Average Value**: The average assetQuantity is about 1.7384020618556701\n",
    "2. **Middle Value**: The middle assetQuantity (when all assetQuantity are sorted) is 1.0\n",
    "3. **Most Common Value**: The most frequently occurring assetQuantity is 1.\n",
    "\n",
    "#### Interpretation:\n",
    "- **Mostly Balanced**: The assetQuantity are mostly balanced around the middle value (1.7384).\n",
    "- **Consistent Data**: Most assetQuantity are close to each other, with a slight tendency towards lower assetQuantity."
   ]
  }
 ],
 "metadata": {
  "kernelspec": {
   "display_name": "Python 3",
   "language": "python",
   "name": "python3"
  },
  "language_info": {
   "codemirror_mode": {
    "name": "ipython",
    "version": 3
   },
   "file_extension": ".py",
   "mimetype": "text/x-python",
   "name": "python",
   "nbconvert_exporter": "python",
   "pygments_lexer": "ipython3",
   "version": "3.13.1"
  }
 },
 "nbformat": 4,
 "nbformat_minor": 2
}
