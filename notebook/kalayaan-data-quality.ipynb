{
 "cells": [
  {
   "cell_type": "markdown",
   "metadata": {},
   "source": [
    "### CONTEXT AND RELEVANCE\n",
    "\n",
    "#### Which might answer these questions:\n",
    "- Are there any potential biases in the data?\n",
    "- If there are biases, what are the risks and implications?\n"
   ]
  },
  {
   "cell_type": "code",
   "execution_count": 23,
   "metadata": {},
   "outputs": [],
   "source": [
    "# import library\n",
    "import pandas as pd\n",
    "\n",
    "# Relative path to read the CSV file from the \"data\" folder\n",
    "df = pd.read_csv(r\"./data/kalayaan/inventories.csv\")\n",
    "\n",
    "# Convert columns to their appropriate data types\n",
    "df = df.infer_objects()"
   ]
  },
  {
   "cell_type": "markdown",
   "metadata": {},
   "source": [
    "---\n",
    "\n",
    "### DATA QUALITY\n",
    "\n",
    "### Check for missing values"
   ]
  },
  {
   "cell_type": "code",
   "execution_count": 24,
   "metadata": {},
   "outputs": [
    {
     "name": "stdout",
     "output_type": "stream",
     "text": [
      "_id                                    0\n",
      "accessionId                            0\n",
      "amoNumber                           3322\n",
      "assetCategory                          0\n",
      "assetDescription                       0\n",
      "assetQuantity                          0\n",
      "modeOfAcquisition                      0\n",
      "acquisitionDate                     3319\n",
      "acquisitionPrice                    3321\n",
      "currentMarketValue                  3322\n",
      "assetLocation                          0\n",
      "roomNumber                             0\n",
      "boxNumber                           1186\n",
      "status                                 0\n",
      "createdBy                              0\n",
      "remarks                                8\n",
      "assetNotes                          2073\n",
      "createdAt                              0\n",
      "updatedAt                           2969\n",
      "__v                                 3257\n",
      "borrowedAssets[0].date              3178\n",
      "borrowedAssets[1].date              3320\n",
      "borrowedAssets[0].borrowedBy        3178\n",
      "borrowedAssets[1].borrowedBy        3320\n",
      "borrowedAssets[0].quantity          3178\n",
      "borrowedAssets[1].quantity          3320\n",
      "borrowedAssets[0].createdBy         3178\n",
      "borrowedAssets[1].createdBy         3320\n",
      "borrowedAssets[0].createdAt         3178\n",
      "borrowedAssets[1].createdAt         3320\n",
      "borrowedAssets[0]._id               3178\n",
      "borrowedAssets[1]._id               3320\n",
      "itemIsFromAnotherMuseum             3131\n",
      "displayedAssets[0].quantity         3279\n",
      "displayedAssets[0].date             3279\n",
      "displayedAssets[0].createdBy        3279\n",
      "displayedAssets[0].assetLocation    3279\n",
      "displayedAssets[0].roomNumber       3279\n",
      "displayedAssets[0].createdAt        3279\n",
      "displayedAssets[0]._id              3279\n",
      "storedAssets[0].quantity            3318\n",
      "storedAssets[0].date                3318\n",
      "storedAssets[0].createdBy           3318\n",
      "storedAssets[0].assetLocation       3318\n",
      "storedAssets[0].roomNumber          3318\n",
      "storedAssets[0].createdAt           3318\n",
      "storedAssets[0]._id                 3318\n",
      "dtype: int64\n",
      "-----------\n",
      "\n",
      "amoNumber: 3322 null values\n",
      "acquisitionDate: 3319 null values\n",
      "acquisitionPrice: 3321 null values\n",
      "currentMarketValue: 3322 null values\n",
      "boxNumber: 1186 null values\n",
      "remarks: 8 null values\n",
      "assetNotes: 2073 null values\n",
      "updatedAt: 2969 null values\n",
      "__v: 3257 null values\n",
      "borrowedAssets[0].date: 3178 null values\n",
      "borrowedAssets[1].date: 3320 null values\n",
      "borrowedAssets[0].borrowedBy: 3178 null values\n",
      "borrowedAssets[1].borrowedBy: 3320 null values\n",
      "borrowedAssets[0].quantity: 3178 null values\n",
      "borrowedAssets[1].quantity: 3320 null values\n",
      "borrowedAssets[0].createdBy: 3178 null values\n",
      "borrowedAssets[1].createdBy: 3320 null values\n",
      "borrowedAssets[0].createdAt: 3178 null values\n",
      "borrowedAssets[1].createdAt: 3320 null values\n",
      "borrowedAssets[0]._id: 3178 null values\n",
      "borrowedAssets[1]._id: 3320 null values\n",
      "itemIsFromAnotherMuseum: 3131 null values\n",
      "displayedAssets[0].quantity: 3279 null values\n",
      "displayedAssets[0].date: 3279 null values\n",
      "displayedAssets[0].createdBy: 3279 null values\n",
      "displayedAssets[0].assetLocation: 3279 null values\n",
      "displayedAssets[0].roomNumber: 3279 null values\n",
      "displayedAssets[0].createdAt: 3279 null values\n",
      "displayedAssets[0]._id: 3279 null values\n",
      "storedAssets[0].quantity: 3318 null values\n",
      "storedAssets[0].date: 3318 null values\n",
      "storedAssets[0].createdBy: 3318 null values\n",
      "storedAssets[0].assetLocation: 3318 null values\n",
      "storedAssets[0].roomNumber: 3318 null values\n",
      "storedAssets[0].createdAt: 3318 null values\n",
      "storedAssets[0]._id: 3318 null values\n"
     ]
    }
   ],
   "source": [
    "# Check for missing values\n",
    "null_counts = df.isnull().sum()\n",
    "\n",
    "print(f\"{null_counts}\\n-----------\\n\")\n",
    "\n",
    "for column, count in null_counts.items():\n",
    "    if count > 0:\n",
    "        print(f\"{column}: {count} null values\")"
   ]
  },
  {
   "cell_type": "markdown",
   "metadata": {},
   "source": [
    "### Check for duplicates"
   ]
  },
  {
   "cell_type": "code",
   "execution_count": 25,
   "metadata": {},
   "outputs": [
    {
     "name": "stdout",
     "output_type": "stream",
     "text": [
      "There are \u001b[1m0\u001b[0m duplicates found\n"
     ]
    }
   ],
   "source": [
    "print(\"There are\", f\"\\033[1m{df.duplicated().sum()}\\033[0m\", \"duplicates found\")"
   ]
  },
  {
   "cell_type": "markdown",
   "metadata": {},
   "source": [
    "---\n",
    "\n",
    "### DATA STRUCTURE AND TYPES"
   ]
  },
  {
   "cell_type": "code",
   "execution_count": 26,
   "metadata": {},
   "outputs": [
    {
     "name": "stdout",
     "output_type": "stream",
     "text": [
      "Number of rows: 3,322\n",
      "Number of columns: 47\n"
     ]
    }
   ],
   "source": [
    "rows, columns = df.shape\n",
    "print(f\"Number of rows: {rows:,}\")\n",
    "print(f\"Number of columns: {columns:,}\")"
   ]
  },
  {
   "cell_type": "code",
   "execution_count": 27,
   "metadata": {},
   "outputs": [
    {
     "name": "stdout",
     "output_type": "stream",
     "text": [
      "_id                                  object\n",
      "accessionId                          object\n",
      "amoNumber                           float64\n",
      "assetCategory                        object\n",
      "assetDescription                     object\n",
      "assetQuantity                         int64\n",
      "modeOfAcquisition                    object\n",
      "acquisitionDate                      object\n",
      "acquisitionPrice                    float64\n",
      "currentMarketValue                  float64\n",
      "assetLocation                        object\n",
      "roomNumber                           object\n",
      "boxNumber                           float64\n",
      "status                               object\n",
      "createdBy                            object\n",
      "remarks                              object\n",
      "assetNotes                           object\n",
      "createdAt                            object\n",
      "updatedAt                            object\n",
      "__v                                 float64\n",
      "borrowedAssets[0].date               object\n",
      "borrowedAssets[1].date               object\n",
      "borrowedAssets[0].borrowedBy         object\n",
      "borrowedAssets[1].borrowedBy         object\n",
      "borrowedAssets[0].quantity          float64\n",
      "borrowedAssets[1].quantity          float64\n",
      "borrowedAssets[0].createdBy          object\n",
      "borrowedAssets[1].createdBy          object\n",
      "borrowedAssets[0].createdAt          object\n",
      "borrowedAssets[1].createdAt          object\n",
      "borrowedAssets[0]._id                object\n",
      "borrowedAssets[1]._id                object\n",
      "itemIsFromAnotherMuseum              object\n",
      "displayedAssets[0].quantity         float64\n",
      "displayedAssets[0].date              object\n",
      "displayedAssets[0].createdBy         object\n",
      "displayedAssets[0].assetLocation     object\n",
      "displayedAssets[0].roomNumber        object\n",
      "displayedAssets[0].createdAt         object\n",
      "displayedAssets[0]._id               object\n",
      "storedAssets[0].quantity            float64\n",
      "storedAssets[0].date                 object\n",
      "storedAssets[0].createdBy            object\n",
      "storedAssets[0].assetLocation        object\n",
      "storedAssets[0].roomNumber           object\n",
      "storedAssets[0].createdAt            object\n",
      "storedAssets[0]._id                  object\n",
      "dtype: object\n"
     ]
    }
   ],
   "source": [
    "# Print the data types of the columns\n",
    "print(df.dtypes)"
   ]
  },
  {
   "cell_type": "code",
   "execution_count": 28,
   "metadata": {},
   "outputs": [
    {
     "name": "stdout",
     "output_type": "stream",
     "text": [
      "Count of columns in each type:\n",
      "\n"
     ]
    },
    {
     "data": {
      "text/plain": [
       "object     37\n",
       "float64     9\n",
       "int64       1\n",
       "Name: count, dtype: int64"
      ]
     },
     "execution_count": 28,
     "metadata": {},
     "output_type": "execute_result"
    }
   ],
   "source": [
    "print(\"Count of columns in each type:\\n\")\n",
    "df.dtypes.value_counts()"
   ]
  },
  {
   "cell_type": "markdown",
   "metadata": {},
   "source": [
    "---\n",
    "\n",
    "### OUTLIERS"
   ]
  },
  {
   "cell_type": "code",
   "execution_count": 29,
   "metadata": {},
   "outputs": [],
   "source": [
    "def find_extremes(df, column):\n",
    "    min_value = df[column].min()\n",
    "    max_value = df[column].max()\n",
    "    return min_value, max_value"
   ]
  },
  {
   "cell_type": "code",
   "execution_count": 30,
   "metadata": {},
   "outputs": [
    {
     "name": "stdout",
     "output_type": "stream",
     "text": [
      "Minimum: -1, Maximum: 61\n"
     ]
    }
   ],
   "source": [
    "min_val, max_val = find_extremes(df, 'assetQuantity')\n",
    "print(f\"Minimum: {min_val}, Maximum: {max_val}\")"
   ]
  },
  {
   "cell_type": "code",
   "execution_count": 31,
   "metadata": {},
   "outputs": [
    {
     "name": "stdout",
     "output_type": "stream",
     "text": [
      "Smallest values:\n",
      " 1208   -1\n",
      "529     0\n",
      "912     0\n",
      "1801    0\n",
      "0       1\n",
      "Name: assetQuantity, dtype: int64\n",
      "Largest values:\n",
      " 1833    61\n",
      "279     49\n",
      "1532    42\n",
      "1032    40\n",
      "1693    27\n",
      "Name: assetQuantity, dtype: int64\n"
     ]
    }
   ],
   "source": [
    "# The 5 smallest values\n",
    "smallest_values = df['assetQuantity'].nsmallest(5)\n",
    "print(\"Smallest values:\\n\", smallest_values)\n",
    "\n",
    "# The 5 largest values\n",
    "largest_values = df['assetQuantity'].nlargest(5)\n",
    "print(\"Largest values:\\n\", largest_values)"
   ]
  },
  {
   "cell_type": "markdown",
   "metadata": {},
   "source": [
    "---\n",
    "\n",
    "### DATA DISTRIBUTIONS AND SUMMARY STATISTICS"
   ]
  },
  {
   "cell_type": "code",
   "execution_count": 32,
   "metadata": {},
   "outputs": [],
   "source": [
    "import pandas as pd\n",
    "\n",
    "def calculate_statistics(df, column):\n",
    "    \"\"\"\n",
    "    Returns the mean, median, and mode for a specified column in the DataFrame.\n",
    "\n",
    "    Parameters:\n",
    "        df (pd.DataFrame): The DataFrame containing the data.\n",
    "        column (str): The column name to calculate statistics for.\n",
    "\n",
    "    Returns:\n",
    "        dict: A dictionary containing the mean, median, and mode of the column.\n",
    "    \"\"\"\n",
    "    mean_value = df[column].mean()\n",
    "    median_value = df[column].median()\n",
    "    mode_value = df[column].mode().iloc[0] if not df[column].mode().empty else None\n",
    "\n",
    "    return {\n",
    "        'mean': mean_value,\n",
    "        'median': median_value,\n",
    "        'mode': mode_value\n",
    "    }"
   ]
  },
  {
   "cell_type": "code",
   "execution_count": 33,
   "metadata": {},
   "outputs": [
    {
     "name": "stdout",
     "output_type": "stream",
     "text": [
      "Statistics for 'assetQuantity' column:\n",
      "Mean: 1.1881396748946418\n",
      "Median: 1.0\n",
      "Mode: 1\n"
     ]
    }
   ],
   "source": [
    "stats = calculate_statistics(df, 'assetQuantity')\n",
    "\n",
    "# Formatting the output\n",
    "formatted_stats = (\n",
    "    f\"Statistics for 'assetQuantity' column:\\n\"\n",
    "    f\"Mean: {stats['mean']}\\n\"\n",
    "    f\"Median: {stats['median']}\\n\"\n",
    "    f\"Mode: {stats['mode']}\"\n",
    ")\n",
    "\n",
    "print(formatted_stats)"
   ]
  },
  {
   "cell_type": "markdown",
   "metadata": {},
   "source": [
    "#### In simpler terms:\n",
    "\n",
    "1. **Average Value**: The average assetQuantity is about 1.1881396748946418\n",
    "2. **Middle Value**: The middle assetQuantity (when all assetQuantity are sorted) is 1.0\n",
    "3. **Most Common Value**: The most frequently occurring assetQuantity is 1.\n",
    "\n",
    "#### Interpretation:\n",
    "- **Mostly Balanced**: The assetQuantity are mostly balanced around the middle value (1.1881).\n",
    "- **Consistent Data**: Most assetQuantity are close to each other, with a slight tendency towards lower assetQuantity."
   ]
  }
 ],
 "metadata": {
  "kernelspec": {
   "display_name": "Python 3",
   "language": "python",
   "name": "python3"
  },
  "language_info": {
   "codemirror_mode": {
    "name": "ipython",
    "version": 3
   },
   "file_extension": ".py",
   "mimetype": "text/x-python",
   "name": "python",
   "nbconvert_exporter": "python",
   "pygments_lexer": "ipython3",
   "version": "3.13.1"
  }
 },
 "nbformat": 4,
 "nbformat_minor": 2
}
